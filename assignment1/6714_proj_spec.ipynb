{
 "cells": [
  {
   "cell_type": "markdown",
   "metadata": {},
   "source": [
    "## COMP6714 Project\n",
    "\n",
    "$\\textbf{Note:}$ It will take you quite some time to complete this project, therefore, we earnestly recommend that you start working as early as possible. You should read the specs carefully at least 2-3 times before you start coding.\n",
    "\n",
    "* $\\textbf{Submission deadline for the Project is 20:59:59 on 19th Nov, 2021}$\n",
    "* $\\textbf{LATE PENALTY: 10% on day-1 and 30% on each subsequent day.}$"
   ]
  },
  {
   "cell_type": "markdown",
   "metadata": {},
   "source": [
    "# Project Specification\n",
    "\n",
    "## Instructions\n",
    "1. This note book contains instructions for $\\textbf{COMP6714-Project}$. \n",
    "\n",
    "* You are required to complete your implementation for part-1 in a file `project.py` provided along with this notebook. Please $\\textbf{DO NOT ALTER}$ the name of the file.\n",
    "\n",
    "* You are not allowed to print out unnecessary stuff. We will not consider any output printed out on the screen. All results should be returned in appropriate data structures via corresponding functions.\n",
    "\n",
    "* You can submit your implementation for **Project** via `give`.\n",
    "\n",
    "* For each question, we have provided you with detailed instructions along with question headings. In case of problems, you can post your query @ Piazza.\n",
    "\n",
    "* You are allowed to add other functions and/or import modules (you may have to for this project), but you are not allowed to define global variables. **Only functions are allowed** in `project.py`\n",
    "\n",
    "* You should not import unnecessary and non-standard modules/libraries. Loading such libraries at test time will lead to errors and hence 0 mark for your project. If you are not sure, please ask @ Piazza.\n",
    "\n",
    "### Allowed Libraries:\n",
    "\n",
    "You are required to write your implementation for the project using `Python 3.6.5`. You are allowed to use any python `standard libraries`(https://docs.python.org/3.6/library/)."
   ]
  },
  {
   "cell_type": "markdown",
   "metadata": {},
   "source": [
    "## Part One - Group Varint Encoding\n",
    "\n",
    "### Input Format:\n",
    "The function `encode()` should receive **One** argument:<br>\n",
    "`posting_list` which is a `list` of integers, where each integer represents a document ID (all the document IDs are sorted).\n",
    "\n",
    "### Output Format:\n",
    "Your output should be a bytearray, which is the group varint encoding for `posting_list`."
   ]
  },
  {
   "cell_type": "code",
   "execution_count": 1,
   "metadata": {},
   "outputs": [],
   "source": [
    "def encode(posting_list):\n",
    "    pass"
   ]
  },
  {
   "cell_type": "markdown",
   "metadata": {},
   "source": [
    "### Toy Example for Illustration \n",
    "\n",
    "Here, we provide a small toy example for this part: <br>\n",
    "Let `posting_list` be:"
   ]
  },
  {
   "cell_type": "code",
   "execution_count": 2,
   "metadata": {},
   "outputs": [],
   "source": [
    "posting_list = [1, 16, 527, 131598]"
   ]
  },
  {
   "cell_type": "code",
   "execution_count": 3,
   "metadata": {},
   "outputs": [],
   "source": [
    "encoded_list = encode(posting_list)"
   ]
  },
  {
   "cell_type": "code",
   "execution_count": 6,
   "metadata": {},
   "outputs": [
    {
     "data": {
      "text/plain": [
       "['00000110',\n",
       " '00000001',\n",
       " '00001111',\n",
       " '11111111',\n",
       " '00000001',\n",
       " '11111111',\n",
       " '11111111',\n",
       " '00000001']"
      ]
     },
     "execution_count": 6,
     "metadata": {},
     "output_type": "execute_result"
    }
   ],
   "source": [
    "[bin(code)[2:].zfill(8)for code in encoded_list]"
   ]
  },
  {
   "cell_type": "markdown",
   "metadata": {},
   "source": [
    "## Part Two - Group Varint Decoding\n",
    "\n",
    "### Input Format:\n",
    "The function `decode()` should receive **One** argument:<br>\n",
    "`encoded_list` is a Bytearray which corresponds to the encoded binary sequence.\n",
    "\n",
    "### Output Format:\n",
    "Your output should be a `list` of integers, where each integer represents a document ID that is decoded from the encoded list."
   ]
  },
  {
   "cell_type": "code",
   "execution_count": 55,
   "metadata": {},
   "outputs": [],
   "source": [
    "def decode(encoded_list):\n",
    "    pass"
   ]
  },
  {
   "cell_type": "markdown",
   "metadata": {},
   "source": [
    "### Toy Example for Illustration \n",
    "\n",
    "Here, we provide a small toy example for this part: <br>\n",
    "Let `encoded_list` be:"
   ]
  },
  {
   "cell_type": "code",
   "execution_count": 66,
   "metadata": {},
   "outputs": [],
   "source": [
    "encoded_list = bytearray(b'\\x06\\x01\\x0f\\xff\\x01\\xff\\xff\\x01')"
   ]
  },
  {
   "cell_type": "code",
   "execution_count": 67,
   "metadata": {},
   "outputs": [],
   "source": [
    "decoded_list = decode(encoded_list)"
   ]
  },
  {
   "cell_type": "code",
   "execution_count": 9,
   "metadata": {},
   "outputs": [
    {
     "data": {
      "text/plain": [
       "[1, 16, 527, 131598]"
      ]
     },
     "execution_count": 9,
     "metadata": {},
     "output_type": "execute_result"
    }
   ],
   "source": [
    "decoded_list"
   ]
  },
  {
   "cell_type": "markdown",
   "metadata": {},
   "source": [
    "## Part Three - Evaluation\n",
    "\n",
    "In this part, you need to implement a function that computes the F1 score and MAP with the given informtion.\n",
    "\n",
    "### Input Format:\n",
    "The function `evaluation()` should receive **two** argument:<br>\n",
    "`rel_list` is a list of 0s and 1s, where 0 indicates that the corresponding document is irrelevant, and 1 indicates that the corresponding document is relevant.\n",
    "`total_rel_doc` is an integer that indicates the total relevant documents to the query.\n",
    "\n",
    "### Output Format:\n",
    "Your output should be two float numbers, where the first one is the F1 score, and the second one is the MAP."
   ]
  },
  {
   "cell_type": "code",
   "execution_count": 71,
   "metadata": {},
   "outputs": [],
   "source": [
    "def evaluation(rel_list, total_rel_doc):\n",
    "    pass"
   ]
  },
  {
   "cell_type": "markdown",
   "metadata": {},
   "source": [
    "### Toy Example for Illustration \n",
    "\n",
    "Here, we provide a small toy example for this part: <br>\n",
    "Let `rel_list` and `total_rel_doc` be:"
   ]
  },
  {
   "cell_type": "code",
   "execution_count": 94,
   "metadata": {},
   "outputs": [],
   "source": [
    "rel_list = [1,1,0,0,0,0,0,0,1,0,1,0,0,0,1,0,0,0,0,1]\n",
    "total_rel_doc = 8"
   ]
  },
  {
   "cell_type": "code",
   "execution_count": 95,
   "metadata": {},
   "outputs": [],
   "source": [
    "F1_score, MAP = evaluation(rel_list, total_rel_doc)"
   ]
  },
  {
   "cell_type": "code",
   "execution_count": 96,
   "metadata": {},
   "outputs": [
    {
     "data": {
      "text/plain": [
       "0.43"
      ]
     },
     "execution_count": 96,
     "metadata": {},
     "output_type": "execute_result"
    }
   ],
   "source": [
    "F1_score"
   ]
  },
  {
   "cell_type": "code",
   "execution_count": 92,
   "metadata": {},
   "outputs": [
    {
     "data": {
      "text/plain": [
       "0.4162878787878788"
      ]
     },
     "execution_count": 92,
     "metadata": {},
     "output_type": "execute_result"
    }
   ],
   "source": [
    "MAP"
   ]
  },
  {
   "cell_type": "markdown",
   "metadata": {},
   "source": [
    "## Project Submission and Feedback\n",
    "\n",
    "For project submission, you are required to submit a python file named `project.py` via `give`:\n",
    "\n",
    "You can submit the file by `give cs6714 proj1 project.py`. The file size is limited to 1MB."
   ]
  }
 ],
 "metadata": {
  "kernelspec": {
   "display_name": "Python 3",
   "language": "python",
   "name": "python3"
  },
  "language_info": {
   "codemirror_mode": {
    "name": "ipython",
    "version": 3
   },
   "file_extension": ".py",
   "mimetype": "text/x-python",
   "name": "python",
   "nbconvert_exporter": "python",
   "pygments_lexer": "ipython3",
   "version": "3.7.6"
  },
  "nteract": {
   "version": "0.26.0"
  }
 },
 "nbformat": 4,
 "nbformat_minor": 2
}
